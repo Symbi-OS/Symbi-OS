{
 "cells": [
  {
   "cell_type": "code",
   "execution_count": 6,
   "metadata": {},
   "outputs": [],
   "source": [
    "# Primer:\n",
    "# =======\n",
    "# The Interrupt Descriptor Table is a fundamental system datastructure\n",
    "# that interface with the hardware. It is a table of 256 entries, each\n",
    "# entry is 16 bytes long. Each entry contains a pointer to a function that\n",
    "# is called when the interrupt is triggered. The function is called with\n",
    "# the exception frame, which contains the state of the CPU when the\n",
    "# interrupt was triggered.\n",
    "# ======="
   ]
  },
  {
   "cell_type": "code",
   "execution_count": 1,
   "metadata": {},
   "outputs": [],
   "source": [
    "import ctypes\n",
    "symbios_path = \"../../\"\n",
    "# The Symbiote Library module allows us to read and write the IDT\n",
    "sym_mod = ctypes.cdll.LoadLibrary(symbios_path + \"Symlib/dynam_build/libSym.so\")"
   ]
  },
  {
   "cell_type": "code",
   "execution_count": 2,
   "metadata": {},
   "outputs": [
    {
     "name": "stdout",
     "output_type": "stream",
     "text": [
      "idtr limit: 0xfff \n",
      "idtr base : 0xfffffe0000000000 \n"
     ]
    },
    {
     "data": {
      "text/plain": [
       "32"
      ]
     },
     "execution_count": 2,
     "metadata": {},
     "output_type": "execute_result"
    }
   ],
   "source": [
    "# Print the IDTR register, which provides a base and limit\n",
    "sym_mod.sym_print_idtr()\n",
    "\n",
    "# The base is the virtual address of the IDT, the limit is the size of the IDT\n",
    "# Limit is 0xfff 256 * 16 - 1 = 4095, so it ranges from base[bytes 0 to 4095], or \n",
    "# 256 possible entries, each 16 bytes long"
   ]
  },
  {
   "cell_type": "code",
   "execution_count": 3,
   "metadata": {},
   "outputs": [
    {
     "name": "stdout",
     "output_type": "stream",
     "text": [
      "my_desc lives at 0xe0\n",
      "about to load addr from desc\n"
     ]
    }
   ],
   "source": [
    "# Let's read an entry of the IDT, say the page fault handler,\n",
    "# which is at index 14\n",
    "\n",
    "sym_mod.sym_print_idt_desc(0xfffffe0000000000, 14);\n"
   ]
  },
  {
   "cell_type": "code",
   "execution_count": null,
   "metadata": {},
   "outputs": [],
   "source": []
  },
  {
   "cell_type": "code",
   "execution_count": 14,
   "metadata": {},
   "outputs": [],
   "source": [
    "import subprocess\n",
    "def run_cmd(cmd):\n",
    "    ret = subprocess.run(cmd.split())\n",
    "    if ret.returncode != 0:\n",
    "        print(\"error: \", ret.returncode)"
   ]
  }
 ],
 "metadata": {
  "kernelspec": {
   "display_name": "sym",
   "language": "python",
   "name": "sym"
  },
  "language_info": {
   "codemirror_mode": {
    "name": "ipython",
    "version": 3
   },
   "file_extension": ".py",
   "mimetype": "text/x-python",
   "name": "python",
   "nbconvert_exporter": "python",
   "pygments_lexer": "ipython3",
   "version": "3.10.4"
  },
  "orig_nbformat": 4
 },
 "nbformat": 4,
 "nbformat_minor": 2
}
