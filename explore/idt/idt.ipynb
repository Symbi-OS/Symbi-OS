{
 "cells": [
  {
   "cell_type": "code",
   "execution_count": 1,
   "metadata": {},
   "outputs": [],
   "source": [
    "# Primer:\n",
    "# =======\n",
    "# The Interrupt Descriptor Table is a fundamental system datastructure\n",
    "# that interface with the hardware. It is a table of 256 entries, each\n",
    "# entry is 16 bytes long. Each entry contains a pointer to a function that\n",
    "# is called when the interrupt is triggered. The function is called with\n",
    "# the exception frame, which contains the state of the CPU when the\n",
    "# interrupt was triggered.\n",
    "# ======="
   ]
  },
  {
   "cell_type": "code",
   "execution_count": 2,
   "metadata": {},
   "outputs": [],
   "source": [
    "import ctypes\n",
    "\n",
    "import os\n",
    "# Add path to LD_LIBRARY_PATH\n",
    "\n",
    "symbios_path = \"../../\"\n",
    "os.environ[\"LD_LIBRARY_PATH\"] += \":\" + symbios_path + \"Symlib/dynam_build\"\n",
    "\n",
    "symbios_path = \"../../\"\n",
    "# The Symbiote Library module allows us to read and write the IDT\n",
    "sym_mod = ctypes.cdll.LoadLibrary(symbios_path + \"Symlib/dynam_build/libSym.so\")"
   ]
  },
  {
   "cell_type": "code",
   "execution_count": 3,
   "metadata": {},
   "outputs": [
    {
     "name": "stdout",
     "output_type": "stream",
     "text": [
      "idtr limit: 0xfff \n",
      "idtr base : 0xfffffe0000000000 \n"
     ]
    },
    {
     "data": {
      "text/plain": [
       "32"
      ]
     },
     "execution_count": 3,
     "metadata": {},
     "output_type": "execute_result"
    }
   ],
   "source": [
    "# Print the IDTR register, which provides a base and limit\n",
    "sym_mod.sym_print_idtr()\n",
    "\n",
    "# The base is the virtual address of the IDT, the limit is the size of the IDT\n",
    "# Limit is 0xfff 256 * 16 - 1 = 4095, so it ranges from base[bytes 0 to 4095], or \n",
    "# 256 possible entries, each 16 bytes long"
   ]
  },
  {
   "cell_type": "code",
   "execution_count": 6,
   "metadata": {},
   "outputs": [],
   "source": [
    "import subprocess\n",
    "def run_cmd(cmd):\n",
    "    ret = subprocess.run(cmd.split())\n",
    "    if ret.returncode != 0:\n",
    "        print(\"error: \", ret.returncode)"
   ]
  },
  {
   "cell_type": "code",
   "execution_count": 7,
   "metadata": {},
   "outputs": [
    {
     "name": "stderr",
     "output_type": "stream",
     "text": [
      "./idt_tool:\n",
      "options:\n",
      "\t-a <addr>: address of idt, current loaded assumed if not provided\n",
      "\tc:         copy idt return ptr to copy on kern pg\n",
      "\tg:         get current idtr\n",
      "\th:         print this help msg\n",
      "\ti:         install idt (swing idtr)\n",
      "\tm <ist_enable|ist_disable|addr:0xaddr>: modify idt entry\n",
      "\tp:         print\n",
      "\tv <dec#>:  vector number for print / modify\n",
      "\tz <df|tf>: which mitigation to copy to kern page\n",
      "\n",
      "examples:\n",
      "\ttaskset -c 1 ./idt_tool -g\n",
      "\ttaskset -c 1 ./idt_tool -c\n",
      "\t./idt_tool -z tf\n",
      "\t./idt_tool -a ffffc90000986000 -m addr:0xffffc9000098d000 -v 14\n",
      "\ttaskset -c 1 ./idt_tool -a ffffc90000986000 -i\n",
      "\n",
      "df mitigation workflow:\n",
      "\ttaskset -c 0 ./idt_tool -g\n",
      "\ttaskset -c 0 ./idt_tool -c\n",
      "\t./idt_tool -z df\n",
      "\t./idt_tool -a ffffc900002ef000 -m addr:0xffffc90000317000 -v 8\n",
      "\ttaskset -c 0 ./idt_tool -a ffffc900002ef000 -i\n"
     ]
    }
   ],
   "source": [
    "# A tool that uses the symlib to operate on the IDT\n",
    "run_cmd(symbios_path + \"Tools/bin/idt_tool -h\")"
   ]
  },
  {
   "cell_type": "code",
   "execution_count": 8,
   "metadata": {},
   "outputs": [
    {
     "name": "stdout",
     "output_type": "stream",
     "text": [
      "IDT at 0xfffffe0000000000\n",
      "Descriptor 14 lives at 0xfffffe00000000e0\n",
      "about to load addr from desc\n",
      "got idt addr\n",
      "full addr: ffffffff81e00ac0\n",
      "segment:   10\n",
      "ist:       0\n",
      "zero0:     0\n",
      "type:      e\n",
      "dpl:       0\n",
      "p:         1\n"
     ]
    },
    {
     "name": "stderr",
     "output_type": "stream",
     "text": [
      "loaded addr from desc\n"
     ]
    }
   ],
   "source": [
    "# An individual descriptor looks like this\n",
    "run_cmd(symbios_path + \"Tools/bin/idt_tool -p -v 14\")"
   ]
  }
 ],
 "metadata": {
  "kernelspec": {
   "display_name": "sym",
   "language": "python",
   "name": "sym"
  },
  "language_info": {
   "codemirror_mode": {
    "name": "ipython",
    "version": 3
   },
   "file_extension": ".py",
   "mimetype": "text/x-python",
   "name": "python",
   "nbconvert_exporter": "python",
   "pygments_lexer": "ipython3",
   "version": "3.10.4"
  },
  "orig_nbformat": 4
 },
 "nbformat": 4,
 "nbformat_minor": 2
}
