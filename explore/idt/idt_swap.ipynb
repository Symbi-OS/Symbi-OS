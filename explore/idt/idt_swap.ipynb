{
 "cells": [
  {
   "attachments": {},
   "cell_type": "markdown",
   "metadata": {},
   "source": [
    "Here we show how you can replace the IDT in a running Linux system with a new one.\n",
    "\n",
    "The steps are as follows:\n",
    "1. Find out where (in virtual address space) the system IDT is located.\n",
    "2. Allocate a page of memory in the kernel address space.\n",
    "3. Copy the existing idt onto the new page\n",
    "4. \"Install\" the new idt by updating the idtr register.\n",
    "\n",
    "The new idt is now in place, but the old one is still in the kernel address space. We could free it if we wanted to, but instead, we switch back onto it. This demonstrates a workflow that encourages restoring the system as expected when the modification is no longer needed."
   ]
  },
  {
   "cell_type": "code",
   "execution_count": 7,
   "metadata": {},
   "outputs": [],
   "source": [
    "import sys\n",
    "sys.path.append(\"../common_code/\")\n",
    "import common as com\n"
   ]
  },
  {
   "cell_type": "code",
   "execution_count": 8,
   "metadata": {},
   "outputs": [],
   "source": [
    "import os\n",
    "# Get full path to idt_tool executable\n",
    "path = os.path.abspath(com.symbios_path + \"Tools/bin\")\n",
    "os.environ[\"PATH\"] += \":\" + path\n",
    "\n",
    "path = os.path.abspath(com.symbios_path + \"Tools/bin/recipes\")\n",
    "os.environ[\"PATH\"] += \":\" + path"
   ]
  },
  {
   "cell_type": "code",
   "execution_count": 9,
   "metadata": {},
   "outputs": [],
   "source": [
    "# Read the old IDT into a dataframe\n",
    "old_idt = com.read_whole_idt()"
   ]
  },
  {
   "cell_type": "code",
   "execution_count": 10,
   "metadata": {},
   "outputs": [
    {
     "name": "stdout",
     "output_type": "stream",
     "text": [
      "Old IDT is located at:  0xffffc9000880f000\n"
     ]
    }
   ],
   "source": [
    "ret = com.run_cmd(\"taskset -c 0 idt_tool -g\")\n",
    "addr_old_idt = ret.stdout.splitlines()[0]\n",
    "# Prepend 0x if not there.\n",
    "addr_old_idt = hex(int(addr_old_idt, 16))\n",
    "# Print the old IDT is located at this address\n",
    "\n",
    "print(\"Old IDT is located at: \", addr_old_idt)"
   ]
  },
  {
   "cell_type": "code",
   "execution_count": 11,
   "metadata": {},
   "outputs": [
    {
     "name": "stdout",
     "output_type": "stream",
     "text": [
      "New IDT is located at:  0xffffc90003f57000\n"
     ]
    }
   ],
   "source": [
    "# Allocate a kernel page, copy the old idt onto it, and return the address of this page\n",
    "ret = com.run_cmd(\"taskset -c 0 idt_tool -c\")\n",
    "addr_new_idt = ret.stdout.splitlines()[0]\n",
    "addr_new_idt = hex(int(addr_new_idt, 16))\n",
    "\n",
    "print(\"New IDT is located at: \", addr_new_idt)"
   ]
  },
  {
   "cell_type": "code",
   "execution_count": 13,
   "metadata": {},
   "outputs": [
    {
     "name": "stdout",
     "output_type": "stream",
     "text": [
      "Current IDT is located at:  0xffffc90003f57000\n"
     ]
    }
   ],
   "source": [
    "# Install the new IDT\n",
    "com.run_cmd(\"taskset -c 0 idt_tool -i -a \" + addr_new_idt)\n",
    "\n",
    "# Get the currently loaded IDT ptr\n",
    "ret = com.run_cmd(\"taskset -c 0 idt_tool -g\")\n",
    "addr_current_idt = ret.stdout.splitlines()[0]\n",
    "addr_current_idt = hex(int(addr_current_idt, 16))\n",
    "\n",
    "print(\"Current IDT is located at: \", addr_current_idt)"
   ]
  },
  {
   "cell_type": "code",
   "execution_count": 14,
   "metadata": {},
   "outputs": [
    {
     "name": "stdout",
     "output_type": "stream",
     "text": [
      "Current IDT is located at:  0xffffc9000880f000\n"
     ]
    }
   ],
   "source": [
    "# Now reinstall the origional IDT\n",
    "com.run_cmd(\"taskset -c 0 idt_tool -i -a \" + addr_old_idt)\n",
    "\n",
    "# Get the currently loaded IDT ptr\n",
    "ret = com.run_cmd(\"taskset -c 0 idt_tool -g\")\n",
    "addr_current_idt = ret.stdout.splitlines()[0]\n",
    "addr_current_idt = hex(int(addr_current_idt, 16))\n",
    "\n",
    "print(\"Current IDT is located at: \", addr_current_idt)"
   ]
  },
  {
   "cell_type": "code",
   "execution_count": null,
   "metadata": {},
   "outputs": [],
   "source": []
  }
 ],
 "metadata": {
  "kernelspec": {
   "display_name": "sym",
   "language": "python",
   "name": "sym"
  },
  "language_info": {
   "codemirror_mode": {
    "name": "ipython",
    "version": 3
   },
   "file_extension": ".py",
   "mimetype": "text/x-python",
   "name": "python",
   "nbconvert_exporter": "python",
   "pygments_lexer": "ipython3",
   "version": "3.10.4"
  },
  "orig_nbformat": 4
 },
 "nbformat": 4,
 "nbformat_minor": 2
}
