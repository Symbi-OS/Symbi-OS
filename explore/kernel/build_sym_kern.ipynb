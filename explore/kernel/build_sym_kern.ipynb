{
 "cells": [
  {
   "cell_type": "code",
   "execution_count": null,
   "id": "85ca6c13",
   "metadata": {},
   "outputs": [],
   "source": [
    "import os\n",
    "\n",
    "#############################\n",
    "#  Container Bootstrapping  #\n",
    "#############################\n",
    "\n",
    "make_cmd = 'make -C ../../ '\n",
    "\n",
    "# Put docker on the current system,\n",
    "# start the container and install SW\n",
    "os.system(make_cmd + 'docker_setup_and_start')\n",
    "\n",
    "os.system(make_cmd + 'docker_prep_linux_kelevate_build_only')\n",
    "\n",
    "# Clone the repo into the container (this target fails if ssh keys are not set up in the container)\n",
    "os.system('make docker_clone_sym')\n",
    "\n",
    "#############################\n",
    "#   Build Baby Build!!!!    #\n",
    "#############################\n",
    "\n",
    "# this target does a make mrproper in the linux directory\n",
    "# copies the config specified in the CONFIG makefile variable to the linux\n",
    "# directory as .config, builds and installs the kernel and modules before copying\n",
    "# them out from the container along with the System map\n",
    "# once they are copied out, dracut is invoked with the appropriate kernel version\n",
    "# to generate an initrd that is compatible with the host\n",
    "os.system('make l_all')\n"
   ]
  }
 ],
 "metadata": {
  "kernelspec": {
   "display_name": "sym",
   "language": "python",
   "name": "sym"
  },
  "language_info": {
   "codemirror_mode": {
    "name": "ipython",
    "version": 3
   },
   "file_extension": ".py",
   "mimetype": "text/x-python",
   "name": "python",
   "nbconvert_exporter": "python",
   "pygments_lexer": "ipython3",
   "version": "3.10.4"
  }
 },
 "nbformat": 4,
 "nbformat_minor": 5
}
