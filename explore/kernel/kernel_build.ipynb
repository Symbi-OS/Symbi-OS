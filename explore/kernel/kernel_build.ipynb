{
 "cells": [
  {
   "cell_type": "code",
   "execution_count": null,
   "id": "85ca6c13",
   "metadata": {},
   "outputs": [],
   "source": [
    "import os\n",
    "\n",
    "#############################\n",
    "#  Container Bootstrapping  #\n",
    "#############################\n",
    "\n",
    "# We will be using the tools in the Symbi-OS makefile to build the kernel, gotta get there first\n",
    "os.system('cd /root/Symbi-OS')\n",
    "# Install docker if it is not already. We also need to make sure the docker daemon is active\n",
    "os.system('make install_docker')\n",
    "os.system('make docker_start_service')\n",
    "# This target pulls a fedora 35 image from fedora's repository if it does not exist locally\n",
    "# and creates a container instance based on that image called linux_builder35\n",
    "os.system('make docker_run')\n",
    "\n",
    "# The following targets utilize the docker exec command to connect to the container and \n",
    "# execute commands within it\n",
    "# Get the necessary packages installed in the container - we need git and make \n",
    "os.system('make docker_git_make')\n",
    "# All of the other packages needed to build a linux kernel \n",
    "os.system('make docker_group_install')\n",
    "# Clone the repo into the container (this target fails if ssh keys are not set up in the container)\n",
    "os.system('make docker_clone_sym')\n",
    "\n",
    "#############################\n",
    "#   Build Baby Build!!!!    #\n",
    "#############################\n",
    "\n",
    "# this target does a make mrproper in the linux directory\n",
    "# copies the config specified in the CONFIG makefile variable to the linux\n",
    "# directory as .config, builds and installs the kernel and modules before copying\n",
    "# them out from the container along with the System map\n",
    "# once they are copied out, dracut is invoked with the appropriate kernel version\n",
    "# to generate an initrd that is compatible with the host\n",
    "os.system('make l_all')\n"
   ]
  }
 ],
 "metadata": {
  "kernelspec": {
   "display_name": "Python 3 (ipykernel)",
   "language": "python",
   "name": "python3"
  },
  "language_info": {
   "codemirror_mode": {
    "name": "ipython",
    "version": 3
   },
   "file_extension": ".py",
   "mimetype": "text/x-python",
   "name": "python",
   "nbconvert_exporter": "python",
   "pygments_lexer": "ipython3",
   "version": "3.11.2"
  }
 },
 "nbformat": 4,
 "nbformat_minor": 5
}
