{
 "cells": [
  {
   "cell_type": "code",
   "execution_count": 1,
   "metadata": {},
   "outputs": [],
   "source": [
    "# Mitigate all is a high level script that runs all the mitigation techniques.\n",
    "# It can be found in Tools/bin/recipes/mitigate_all.sh\n",
    "\n",
    "# It performs a number of steps including:\n",
    "# 1. Double Fault mitigation\n",
    "# 2. Kernel Text Fault mitigation\n",
    "# 3. Kernel Debug Trap mitigation\n",
    "\n",
    "# The first two make application code able to run in supervisor mode.\n",
    "# The third makes it possible to pull data out of the kernel at known addresses.\n",
    "\n",
    "# We detail the individual mitigations in the other notebooks in this directory\n",
    "# But provide an overview here. In particular, we demonstrate how the\n",
    "# Interrupt Descriptor Table (IDT) is modified by the mitigations"
   ]
  },
  {
   "cell_type": "code",
   "execution_count": 2,
   "metadata": {},
   "outputs": [],
   "source": [
    "import pandas as pd\n",
    "import ctypes\n",
    "import os\n",
    "\n",
    "symbios_path = \"../../\"\n",
    "# Add path to LD_LIBRARY_PATH, TODO: replace this with execututing .prep_env.sh?\n",
    "os.environ[\"LD_LIBRARY_PATH\"] += \":\" + symbios_path + \"Symlib/dynam_build\"\n",
    "\n",
    "# The Symbiote Library module allows us to read and write the IDT\n",
    "sym_mod = ctypes.cdll.LoadLibrary(\n",
    "    symbios_path + \"Symlib/dynam_build/libSym.so\")\n"
   ]
  },
  {
   "cell_type": "code",
   "execution_count": 3,
   "metadata": {},
   "outputs": [
    {
     "name": "stdout",
     "output_type": "stream",
     "text": [
      "idtr limit: 0xfff \n",
      "idtr base : 0xffffc9000053f000 \n"
     ]
    },
    {
     "data": {
      "text/plain": [
       "32"
      ]
     },
     "execution_count": 3,
     "metadata": {},
     "output_type": "execute_result"
    }
   ],
   "source": [
    "# Print the IDTR register, which provides a base and limit\n",
    "sym_mod.sym_print_idtr()\n",
    "\n",
    "# The base is the virtual address of the IDT, the limit is the size of the IDT\n",
    "# Limit is 0xfff 256 * 16 - 1 = 4095, so it ranges from base[bytes 0 to 4095], or\n",
    "# 256 possible entries, each 16 bytes long\n"
   ]
  },
  {
   "cell_type": "code",
   "execution_count": 4,
   "metadata": {},
   "outputs": [],
   "source": [
    "import subprocess\n",
    "\n",
    "\n",
    "def run_cmd(cmd):\n",
    "    ret = subprocess.run(cmd.split())\n",
    "    if ret.returncode != 0:\n",
    "        print(\"error: \", ret.returncode)\n"
   ]
  },
  {
   "cell_type": "code",
   "execution_count": 5,
   "metadata": {},
   "outputs": [
    {
     "name": "stderr",
     "output_type": "stream",
     "text": [
      "./idt_tool:\n",
      "options:\n",
      "\t-a <addr>: address of idt, current loaded assumed if not provided\n",
      "\tc:         copy idt return ptr to copy on kern pg\n",
      "\tg:         get current idtr\n",
      "\th:         print this help msg\n",
      "\ti:         install idt (swing idtr)\n",
      "\tm <ist_enable|ist_disable|addr:0xaddr>: modify idt entry\n",
      "\tp:         print\n",
      "\tv <dec#>:  vector number for print / modify\n",
      "\tz <df|tf>: which mitigation to copy to kern page\n",
      "\n",
      "examples:\n",
      "\ttaskset -c 1 ./idt_tool -g\n",
      "\ttaskset -c 1 ./idt_tool -c\n",
      "\t./idt_tool -z tf\n",
      "\t./idt_tool -a ffffc90000986000 -m addr:0xffffc9000098d000 -v 14\n",
      "\ttaskset -c 1 ./idt_tool -a ffffc90000986000 -i\n",
      "\n",
      "df mitigation workflow:\n",
      "\ttaskset -c 0 ./idt_tool -g\n",
      "\ttaskset -c 0 ./idt_tool -c\n",
      "\t./idt_tool -z df\n",
      "\t./idt_tool -a ffffc900002ef000 -m addr:0xffffc90000317000 -v 8\n",
      "\ttaskset -c 0 ./idt_tool -a ffffc900002ef000 -i\n"
     ]
    }
   ],
   "source": [
    "# A tool that uses the symlib to operate on the IDT\n",
    "run_cmd(symbios_path + \"Tools/bin/idt_tool -h\")\n"
   ]
  },
  {
   "cell_type": "code",
   "execution_count": 6,
   "metadata": {},
   "outputs": [
    {
     "name": "stdout",
     "output_type": "stream",
     "text": [
      "IDT at 0xffffc9000053f000\n",
      "Descriptor 14 at 0xffffc9000053f0e0\n",
      "about to load addr from desc\n",
      "got idt addr\n",
      "full addr: ffffc900004c7000\n",
      "segment:   10\n",
      "ist:       0\n",
      "zero0:     0\n",
      "type:      e\n",
      "dpl:       0\n",
      "p:         1\n"
     ]
    }
   ],
   "source": [
    "# An individual descriptor looks like this\n",
    "run_cmd(symbios_path + \"Tools/bin/idt_tool -p -v 14\")\n"
   ]
  },
  {
   "cell_type": "code",
   "execution_count": 7,
   "metadata": {},
   "outputs": [],
   "source": [
    "# A function that takes an output from the idt_tool, a string, and extracts the\n",
    "# corresponding value from the descriptor\n",
    "def extract_desc_value(output, value):\n",
    "    ret = output.decode(\"utf-8\").split(value)[1].split(\"\\n\")[0]\n",
    "    return hex(int(ret, 16))\n"
   ]
  },
  {
   "cell_type": "code",
   "execution_count": 26,
   "metadata": {},
   "outputs": [],
   "source": [
    "\n",
    "# A function that populates a dataframe with the values of the descriptor\n",
    "def get_all_desc_values(df, output):\n",
    "    fields = [\"full addr:\", \"segment:\", \"ist:\", \"zero0:\", \"type:\", \"dpl:\", \"p:\"]\n",
    "    values = []\n",
    "    for field in fields:\n",
    "        value = extract_desc_value(output, field)\n",
    "        values.append(value)\n",
    "    df.loc[len(df)] = values\n"
   ]
  },
  {
   "cell_type": "code",
   "execution_count": 27,
   "metadata": {},
   "outputs": [],
   "source": [
    "# Loop over all entries in the IDT adding to df\n",
    "df = pd.DataFrame(columns=[\"addr\", \"segment\", \"ist\",\n",
    "                  \"zero0\", \"type\", \"dpl\", \"p\"])\n",
    "\n",
    "for i in range(0, 256):\n",
    "    output = subprocess.check_output(\n",
    "        [symbios_path + \"Tools/bin/idt_tool\", \"-p\", \"-v\", str(i)])\n",
    "    get_all_desc_values(df, output)\n"
   ]
  }
 ],
 "metadata": {
  "kernelspec": {
   "display_name": "sym",
   "language": "python",
   "name": "sym"
  },
  "language_info": {
   "codemirror_mode": {
    "name": "ipython",
    "version": 3
   },
   "file_extension": ".py",
   "mimetype": "text/x-python",
   "name": "python",
   "nbconvert_exporter": "python",
   "pygments_lexer": "ipython3",
   "version": "3.10.4"
  },
  "orig_nbformat": 4
 },
 "nbformat": 4,
 "nbformat_minor": 2
}
