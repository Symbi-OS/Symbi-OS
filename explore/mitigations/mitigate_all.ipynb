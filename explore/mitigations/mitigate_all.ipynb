{
 "cells": [
  {
   "cell_type": "code",
   "execution_count": 1,
   "metadata": {},
   "outputs": [],
   "source": [
    "# Mitigate all is a high level script that runs all the mitigation techniques.\n",
    "# It can be found in Tools/bin/recipes/mitigate_all.sh\n",
    "\n",
    "# It performs a number of steps including:\n",
    "# 1. Double Fault mitigation\n",
    "# 2. Kernel Text Fault mitigation\n",
    "# 3. Kernel Debug Trap mitigation\n",
    "\n",
    "# The first two make application code able to run in supervisor mode.\n",
    "# The third makes it possible to pull data out of the kernel at known addresses.\n",
    "\n",
    "# We detail the individual mitigations in the other notebooks in this directory\n",
    "# But provide an overview here. In particular, we demonstrate how the\n",
    "# Interrupt Descriptor Table (IDT) is modified by the mitigations"
   ]
  },
  {
   "cell_type": "code",
   "execution_count": 2,
   "metadata": {},
   "outputs": [],
   "source": [
    "# This cell is well explained in idt.ipynb, so we skip it.\n",
    "import ctypes\n",
    "import os\n",
    "import subprocess\n",
    "import pandas as pd\n",
    "\n",
    "\n",
    "IDT_ENTRIES=256\n",
    "\n",
    "symbios_path = \"../../\"\n",
    "os.environ[\"LD_LIBRARY_PATH\"] += \":\" + symbios_path + \"Symlib/dynam_build\"\n",
    "\n",
    "def run_cmd(cmd):\n",
    "    ret = subprocess.run(cmd.split())\n",
    "    if ret.returncode != 0:\n",
    "        print(\"error: \", ret.returncode)\n",
    "\n",
    "def extract_desc_value(output, value):\n",
    "    ret = output.decode(\"utf-8\").split(value)[1].split(\"\\n\")[0]\n",
    "    return hex(int(ret, 16))\n",
    "\n",
    "def get_all_desc_values(df, output):\n",
    "    fields = [\"full addr:\", \"segment:\", \"ist:\", \"zero0:\", \"type:\", \"dpl:\", \"p:\"]\n",
    "    values = []\n",
    "    for field in fields:\n",
    "        value = extract_desc_value(output, field)\n",
    "        values.append(value)\n",
    "    df.loc[len(df)] = values\n",
    "\n",
    "def read_whole_idt():\n",
    "    import pandas as pd\n",
    "    df = pd.DataFrame(columns=[\"full addr:\", \"segment:\", \"ist:\", \"zero0:\", \"type:\", \"dpl:\", \"p:\"])\n",
    "    for i in range(IDT_ENTRIES):\n",
    "        output = subprocess.check_output([symbios_path + \"Tools/bin/idt_tool\", \"-p\", \"-v\", str(i)])\n",
    "        get_all_desc_values(df, output)\n",
    "    return df"
   ]
  },
  {
   "cell_type": "code",
   "execution_count": 3,
   "metadata": {},
   "outputs": [
    {
     "name": "stdout",
     "output_type": "stream",
     "text": [
      "ffffc90001a5b000\n",
      "ffffc90001a77000\n",
      "ffffc90001a8f000\n",
      "mitigated core 0\n",
      "mitigation finished\n"
     ]
    }
   ],
   "source": [
    "# Here we read the whole IDT into a dataframe before and after the mitigations.\n",
    "\n",
    "old_idt = read_whole_idt()\n",
    "\n",
    "run_cmd(symbios_path + \"Tools/bin/recipes/mitigate_all.sh\")\n",
    "\n",
    "new_idt = read_whole_idt()\n"
   ]
  },
  {
   "cell_type": "code",
   "execution_count": 12,
   "metadata": {},
   "outputs": [
    {
     "name": "stdout",
     "output_type": "stream",
     "text": [
      "Modified entries:  3 [1, 8, 14]\n"
     ]
    }
   ],
   "source": [
    "# We see that len(modified_entries) = 3, and the indices correspond to the \n",
    "# double falut, text fault, and debug trap mitigations.\n",
    "\n",
    "# Here we check which entries of the IDT have changed.\n",
    "modified_entries = [i for i in range(IDT_ENTRIES) if not old_idt.iloc[i].equals(new_idt.iloc[i])]\n",
    "print(\"Modified entries: \", len(modified_entries), modified_entries)"
   ]
  },
  {
   "cell_type": "code",
   "execution_count": 13,
   "metadata": {},
   "outputs": [
    {
     "name": "stdout",
     "output_type": "stream",
     "text": [
      "Entry  1\n",
      "full addr:    0xffffc90001a4f000\n",
      "segment:                    0x10\n",
      "ist:                         0x3\n",
      "zero0:                       0x0\n",
      "type:                        0xe\n",
      "dpl:                         0x0\n",
      "p:                           0x1\n",
      "Name: 1, dtype: object\n",
      "full addr:    0xffffc90001a9f000\n",
      "segment:                    0x10\n",
      "ist:                         0x3\n",
      "zero0:                       0x0\n",
      "type:                        0xe\n",
      "dpl:                         0x0\n",
      "p:                           0x1\n",
      "Name: 1, dtype: object\n",
      "Entry  8\n",
      "full addr:    0xffffc90000593000\n",
      "segment:                    0x10\n",
      "ist:                         0x1\n",
      "zero0:                       0x0\n",
      "type:                        0xe\n",
      "dpl:                         0x0\n",
      "p:                           0x1\n",
      "Name: 8, dtype: object\n",
      "full addr:    0xffffc90001a67000\n",
      "segment:                    0x10\n",
      "ist:                         0x1\n",
      "zero0:                       0x0\n",
      "type:                        0xe\n",
      "dpl:                         0x0\n",
      "p:                           0x1\n",
      "Name: 8, dtype: object\n",
      "Entry  14\n",
      "full addr:    0xffffc90001a17000\n",
      "segment:                    0x10\n",
      "ist:                         0x0\n",
      "zero0:                       0x0\n",
      "type:                        0xe\n",
      "dpl:                         0x0\n",
      "p:                           0x1\n",
      "Name: 14, dtype: object\n",
      "full addr:    0xffffc90001a7f000\n",
      "segment:                    0x10\n",
      "ist:                         0x0\n",
      "zero0:                       0x0\n",
      "type:                        0xe\n",
      "dpl:                         0x0\n",
      "p:                           0x1\n",
      "Name: 14, dtype: object\n"
     ]
    }
   ],
   "source": [
    "# We can dig in further here, but we leave the discussion to the individual\n",
    "# mitigation notebooks.\n",
    "for i in modified_entries:\n",
    "    print(\"Entry \", i)\n",
    "    print(old_idt.iloc[i])\n",
    "    print(new_idt.iloc[i])"
   ]
  },
  {
   "cell_type": "code",
   "execution_count": null,
   "metadata": {},
   "outputs": [],
   "source": []
  }
 ],
 "metadata": {
  "kernelspec": {
   "display_name": "sym",
   "language": "python",
   "name": "sym"
  },
  "language_info": {
   "codemirror_mode": {
    "name": "ipython",
    "version": 3
   },
   "file_extension": ".py",
   "mimetype": "text/x-python",
   "name": "python",
   "nbconvert_exporter": "python",
   "pygments_lexer": "ipython3",
   "version": "3.10.4"
  },
  "orig_nbformat": 4
 },
 "nbformat": 4,
 "nbformat_minor": 2
}
