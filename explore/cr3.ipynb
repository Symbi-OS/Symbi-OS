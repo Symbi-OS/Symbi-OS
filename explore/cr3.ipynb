{
 "cells": [
  {
   "cell_type": "code",
   "execution_count": 4,
   "metadata": {},
   "outputs": [],
   "source": [
    "import subprocess\n",
    "def run_cmd(cmd):\n",
    "    ret = subprocess.run(cmd.split())\n",
    "    if ret.returncode != 0:\n",
    "        print(\"error: \", ret.returncode)"
   ]
  },
  {
   "cell_type": "code",
   "execution_count": 5,
   "metadata": {},
   "outputs": [
    {
     "name": "stdout",
     "output_type": "stream",
     "text": [
      "make: Entering directory '/home/sym/Symbi-OS/LinuxPrototypes/python'\n",
      "rm -f *.o *.so\n",
      "make: Leaving directory '/home/sym/Symbi-OS/LinuxPrototypes/python'\n",
      "make: Entering directory '/home/sym/Symbi-OS/LinuxPrototypes/python'\n",
      "as -o my_assembly_function.o my_assembly_function.S\n",
      "gcc -shared -o my_shared_object.so my_assembly_function.o\n",
      "make: Leaving directory '/home/sym/Symbi-OS/LinuxPrototypes/python'\n"
     ]
    }
   ],
   "source": [
    "# Build the shared object and load it as a module\n",
    "run_cmd(\"make -C ../LinuxPrototypes/python/ clean\")\n",
    "run_cmd(\"make -C ../LinuxPrototypes/python/ my_shared_object.so\")"
   ]
  },
  {
   "cell_type": "code",
   "execution_count": 2,
   "metadata": {},
   "outputs": [],
   "source": [
    "import ctypes\n",
    "\n",
    "# On x86, e.g. Intel processors, Control Register 3 (cr3) is a protected system register.\n",
    "# It must neither be read nor written by user code, or the system can be compromised.\n",
    "\n",
    "# This module contains an evil read cr3 instruction! 👻\n",
    "evil_mod = ctypes.cdll.LoadLibrary(\"../LinuxPrototypes/python/my_shared_object.so\")\n",
    "\n",
    "# The Symbiote library: used here to exercise the new syscall we added to the Linux kernel.\n",
    "# We use this to enter the privileged \"supervisor mode\", allowing us access a superset of \n",
    "# ISA (machine code) instructions, for example, reading cr3, e.g. \"mov cr3, %rax\".\n",
    "symlib_mod = ctypes.cdll.LoadLibrary(\"../Symlib/dynam_build/libSym.so\")"
   ]
  },
  {
   "cell_type": "code",
   "execution_count": 3,
   "metadata": {},
   "outputs": [
    {
     "name": "stdout",
     "output_type": "stream",
     "text": [
      "CR3 = 0x664ee004\n"
     ]
    }
   ],
   "source": [
    "# UNIT TEST (intended to PASS). \n",
    "# On PASS you will see \"CR3 = 0x...\"\n",
    "\n",
    "# Elevate permission: use elevate syscall to enter supervisor mode. \n",
    "symlib_mod.sym_elevate()\n",
    "\n",
    "# Read cr3! Attempt a \"mov cr3, %rax\" instruction.\n",
    "cr3 = evil_mod.getcr3()\n",
    "\n",
    "# Lower permission: return back to user mode.\n",
    "symlib_mod.sym_lower()\n",
    "\n",
    "print(\"CR3 = 0x{:x}\".format(cr3))"
   ]
  },
  {
   "cell_type": "code",
   "execution_count": 4,
   "metadata": {},
   "outputs": [
    {
     "ename": "",
     "evalue": "",
     "output_type": "error",
     "traceback": [
      "\u001b[1;31mCanceled future for execute_request message before replies were done"
     ]
    },
    {
     "ename": "",
     "evalue": "",
     "output_type": "error",
     "traceback": [
      "\u001b[1;31mThe Kernel crashed while executing code in the the current cell or a previous cell. Please review the code in the cell(s) to identify a possible cause of the failure. Click <a href='https://aka.ms/vscodeJupyterKernelCrash'>here</a> for more info. View Jupyter <a href='command:jupyter.viewOutput'>log</a> for further details."
     ]
    }
   ],
   "source": [
    "# UNIT TEST (INTENDED TO FAIL): \n",
    "# On FAIL you will see \"Canceled future ...\" and the python kernel crash.\n",
    "\n",
    "# Standard user mode process, the processor catches the attmepted \"mov cr3, %rax\"\n",
    "# instruction with a general protection fault, and kills the offending process, \n",
    "# the python interpreter, or \"Kernel\". The print will never come!\n",
    "cr3 = evil_mod.getcr3()\n",
    "print(\"CR3 = 0x{:x}\".format(cr3))"
   ]
  },
  {
   "cell_type": "code",
   "execution_count": null,
   "metadata": {},
   "outputs": [],
   "source": []
  }
 ],
 "metadata": {
  "kernelspec": {
   "display_name": "sym",
   "language": "python",
   "name": "sym"
  },
  "language_info": {
   "codemirror_mode": {
    "name": "ipython",
    "version": 3
   },
   "file_extension": ".py",
   "mimetype": "text/x-python",
   "name": "python",
   "nbconvert_exporter": "python",
   "pygments_lexer": "ipython3",
   "version": "3.10.4"
  },
  "orig_nbformat": 4
 },
 "nbformat": 4,
 "nbformat_minor": 2
}
