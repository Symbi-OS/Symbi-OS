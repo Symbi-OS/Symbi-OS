{
 "cells": [
  {
   "cell_type": "code",
   "execution_count": 27,
   "metadata": {},
   "outputs": [],
   "source": [
    "import os\n",
    "import ctypes\n"
   ]
  },
  {
   "cell_type": "code",
   "execution_count": 28,
   "metadata": {},
   "outputs": [],
   "source": [
    "def loadMod(var):\n",
    "    return ctypes.cdll.LoadLibrary(var)\n",
    "symbios_path = \"../../\" \n",
    "priv_lib_path = symbios_path + \"LinuxPrototypes/python/getCr3.so\"\n",
    "kele_lib_path = symbios_path + \"Symlib/dynam_build/libSym.so\"\n",
    "\n",
    "# Load priv and kele modules (shared objects)\n",
    "priv = loadMod(priv_lib_path)\n",
    "kele = loadMod(kele_lib_path)"
   ]
  },
  {
   "cell_type": "code",
   "execution_count": 29,
   "metadata": {},
   "outputs": [
    {
     "name": "stdout",
     "output_type": "stream",
     "text": [
      "CR3 = 0x65db2006\n"
     ]
    }
   ],
   "source": [
    "# Wrapper for the kElevate syscall.\n",
    "kele.sym_elevate()\n",
    "\n",
    "# Access a privleged register using the\n",
    "# privleged instruction (mov cr3, %rax).\n",
    "cr3 = priv.getcr3()\n",
    "\n",
    "# Another kElevate wrapper, different args.\n",
    "kele.sym_lower()\n",
    "\n",
    "print(\"CR3 = 0x{:x}\".format(cr3))"
   ]
  },
  {
   "cell_type": "code",
   "execution_count": null,
   "metadata": {},
   "outputs": [],
   "source": [
    "# Invoke ksys_write to print to the file\n",
    "with open(\"output.txt\") as f:\n",
    "    f.write(\"Hello\")\n",
    "    kele.sym_elevate()\n",
    "    addr = kele.get_addr(\"ksys_write\")\n",
    "    # kele.ksys_write(f.fileno(), \"World!\\n\", 7)\n",
    "    kele.ksys_write()"
   ]
  },
  {
   "cell_type": "code",
   "execution_count": 22,
   "metadata": {},
   "outputs": [
    {
     "name": "stdout",
     "output_type": "stream",
     "text": [
      "72\n",
      "Hello world!\n"
     ]
    }
   ],
   "source": [
    "# remove the file if it exists\n",
    "if os.path.exists(\"output.txt\"):\n",
    "    os.remove(\"output.txt\")\n",
    "\n",
    "with open(\"output.txt\", \"w\") as f:\n",
    "    # print the file descriptor for f\n",
    "    print(f.fileno())\n",
    "    f.write(\"Hello\")\n",
    "    f.write(\" world!\\n\")\n",
    "\n",
    "# Open the file and read the contents\n",
    "with open(\"output.txt\", \"r\") as f:\n",
    "    print(f.read())"
   ]
  },
  {
   "cell_type": "code",
   "execution_count": null,
   "metadata": {},
   "outputs": [],
   "source": []
  },
  {
   "cell_type": "code",
   "execution_count": 26,
   "metadata": {},
   "outputs": [
    {
     "name": "stdout",
     "output_type": "stream",
     "text": [
      "0x0\n"
     ]
    }
   ],
   "source": [
    "addr = kele.sym_get_fn_address(\"printk\")\n",
    "\n",
    "# print addr as unsigned hex\n",
    "print(\"0x{:x}\".format(addr))\n"
   ]
  },
  {
   "cell_type": "code",
   "execution_count": null,
   "metadata": {},
   "outputs": [],
   "source": [
    "# !!! This is a stub, you have to re-run it !!!\n",
    "with open(\"output.txt\", \"w\") as f:\n",
    "    # Standard write.\n",
    "    f.write(\"Hello\")\n",
    "\n",
    "    kele.kElevate()\n",
    "    # Invoking kernel's ksys_write directly.\n",
    "    kele.ksys_write(f.fileno(), \"World!\\n, 7\")\n",
    "    kele.kLower()"
   ]
  },
  {
   "cell_type": "code",
   "execution_count": 30,
   "metadata": {},
   "outputs": [
    {
     "name": "stdout",
     "output_type": "stream",
     "text": [
      "Hello world!\n"
     ]
    }
   ],
   "source": [
    "# Open the file and read the contents\n",
    "with open(\"output.txt\", \"r\") as f:\n",
    "    print(f.read())"
   ]
  },
  {
   "cell_type": "code",
   "execution_count": null,
   "metadata": {},
   "outputs": [],
   "source": []
  }
 ],
 "metadata": {
  "kernelspec": {
   "display_name": "sym",
   "language": "python",
   "name": "sym"
  },
  "language_info": {
   "codemirror_mode": {
    "name": "ipython",
    "version": 3
   },
   "file_extension": ".py",
   "mimetype": "text/x-python",
   "name": "python",
   "nbconvert_exporter": "python",
   "pygments_lexer": "ipython3",
   "version": "3.10.4"
  },
  "orig_nbformat": 4
 },
 "nbformat": 4,
 "nbformat_minor": 2
}
