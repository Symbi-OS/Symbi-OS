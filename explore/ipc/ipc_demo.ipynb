{
 "cells": [
  {
   "attachments": {},
   "cell_type": "markdown",
   "metadata": {},
   "source": [
    "# Symbiote's IPC Server\n",
    "\n",
    "One of my contributions to the Symbiote project is what we call the IPC server. Normally, symbiote system users might think that any application entering a risky “elevated” state is unsafe and concerning. The solution to this is our IPC server: a single centralized approved application that runs in a proven-to-be-safe elevated state. <br>\n",
    "It has two main purposes: security and optimization.\n",
    "\n",
    "## Security\n",
    " \n",
    "This model allows a whitelisted admin-approved symbiote application running in an elevated supervisor mode transparently improve performance and efficiency of other applications. This allows user applications to not worry about crashing the entire system or messing something up as the ipc server handles incorrect input and safely performs the necessary privileged operations.<br>\n",
    "Additionally, for security-intensive systems, it might be unwanted to let normal users run privileged code, so the solution to that is running a single whitelisted symbiote daemon that handles shortcutting requests accordingly. It would also allow the community to test it along with other symbiote tools and help improve its security features.<br>\n",
    "The admin can also enable or disable the ipc server like a module, modify it's configured behavior, and/or change number of threads dedicated to it.\n",
    "\n",
    "\n",
    "## Optimization\n",
    "\n",
    "Whenever a user application would like to perform a shortcutted system call, our ipc interposer library transparently intercepts a normal system call and sends a request through shared memory to the ipc server. The server, in turn, performs the shortcutted version of the system call and returns the result back to the user application. This allows applications to gain essentially free speedups in performance-critical paths, since a shortcutted server might yield better performance and cacheing, and knows how to execute privileged supervisor instructions safely without crashing.\n",
    "\n",
    "### Note\n",
    "This approach is also ABI compatible, meaning no code modifications are required for original binaries of user applications!"
   ]
  },
  {
   "cell_type": "code",
   "execution_count": null,
   "metadata": {},
   "outputs": [],
   "source": [
    "import os\n",
    "\n",
    "'''\n",
    "In here, you will learn how to use our ipc server infrastructure in your client applications.\n",
    "First, you have to launch the IPC server with a certain number of threads. It will be like a running daemon on your system\n",
    "and will accept requests from various client user applications, one of which you are going to build right now.\n",
    "'''\n",
    "\n",
    "# Save the full path to the directory with ipc binaries into a variable\n",
    "IPCDIR = os.path.expanduser('~/') + 'Symbi-OS/Tools/bin/ipc'\n",
    "\n",
    "# Launch the ipc server and make it a background process.\n",
    "# *Note* you could also launch the ipc server using the shortcut.sh tool, but we are going to \n",
    "# run this demo with a lowered server, the functionality is equivalent and no changes have to be made.\n",
    "os.system(f'{IPCDIR}/server 1 &')"
   ]
  },
  {
   "attachments": {},
   "cell_type": "markdown",
   "metadata": {},
   "source": [
    "In order to make use of our IPC server infrastructure, each client upon connecting to the server\n",
    "will receive a \"job request buffer\" which it will use to make any type of request to the server.\n",
    "\n",
    "This is how the structure looks like in C:\n",
    "```\n",
    "typedef struct JobRequestBuffer {\n",
    "    int pid;              // Client's PID\n",
    "    int cmd;              // Job command requested by the client\n",
    "    int arg1;             // First integer argument\n",
    "    int arg2;             // Second integer argument\n",
    "    int response;         // Response from the server\n",
    "    char buffer[4096];    // Command buffer\n",
    "    int buffer_len;       // Commabd buffer length\n",
    "    int status;  // Flag indicating which stage the job is at\n",
    "    int lock;\n",
    "} JobRequestBuffer_t;\n",
    "```"
   ]
  },
  {
   "cell_type": "code",
   "execution_count": null,
   "metadata": {},
   "outputs": [],
   "source": [
    "import ctypes\n",
    "\n",
    "# We will now define the job request buffer structure in Python:\n",
    "class JobRequestBuffer(ctypes.Structure):\n",
    "     _fields_ = [\n",
    "         ('pid', ctypes.c_int),\n",
    "         ('cmd', ctypes.c_int),\n",
    "         ('arg1', ctypes.c_int),\n",
    "         ('arg2', ctypes.c_int),\n",
    "         ('response', ctypes.c_int),\n",
    "         ('buffer', ctypes.c_char * 4096),\n",
    "         ('buffer_len', ctypes.c_int),\n",
    "         ('status', ctypes.c_int),\n",
    "         ('lock', ctypes.c_int)\n",
    "    ]"
   ]
  },
  {
   "attachments": {},
   "cell_type": "markdown",
   "metadata": {},
   "source": [
    "All of the IPC client/server functionality is incorporated into an ```ipc.so``` shared library."
   ]
  },
  {
   "cell_type": "code",
   "execution_count": null,
   "metadata": {},
   "outputs": [],
   "source": [
    "# Import the ipc.so library\n",
    "ipclib = ctypes.cdll.LoadLibrary(f'{IPCDIR}/ipc.so')\n",
    "\n",
    "# For clarity, mark the return types of the functions we are going to use\n",
    "ipclib.ipc_get_job_buffer.restype = ctypes.c_void_p\n",
    "ipclib.submit_job_request.restype = None\n",
    "ipclib.wait_for_job_completion.restype = None\n",
    "ipclib.disconnect_job_buffer.restype = None"
   ]
  },
  {
   "attachments": {},
   "cell_type": "markdown",
   "metadata": {},
   "source": [
    "Now is one of the most important parts: connecting to the ipc server.\n",
    "We can call ```ipc_get_job_buffer()``` to get a pointer to a ```JobRequestBuffer```"
   ]
  },
  {
   "cell_type": "code",
   "execution_count": null,
   "metadata": {},
   "outputs": [],
   "source": [
    "# By requesting a job buffer, the client creates a connection with an ipc server,\n",
    "# which in turn allocates a request buffer for our client in the shared memory region.\n",
    "buffer_address = ipclib.ipc_get_job_buffer()\n",
    "\n",
    "# Print the buffer address to ensure it's valid (or at least looks right)\n",
    "print(f'Job buffer: {hex(buffer_address)}')\n",
    "\n",
    "# Now that we have an address, we can construct a valid Python struct object from it\n",
    "buffer = JobRequestBuffer.from_address(buffer_address)"
   ]
  },
  {
   "attachments": {},
   "cell_type": "markdown",
   "metadata": {},
   "source": [
    "Now, to demonstrate how the ipc server works, we will make a request for a ```write()``` system call.\n",
    "The idea is essentially describing to the server what system call and its parameters you are trying to\n",
    "perform and delegating the actual work to the server rather than executing the system call yourself.\n",
    "\n",
    "In order to make a ```write()``` system call request, we need to fill the job request buffer out with the appropriate\n",
    "information such as our process's pid, command we are requesting, and write call parameters: fd, buffer, len."
   ]
  },
  {
   "cell_type": "code",
   "execution_count": null,
   "metadata": {},
   "outputs": [],
   "source": [
    "# Define some constants for clarity\n",
    "CMD_WRITE = 1\n",
    "STDOUT = 1\n",
    "\n",
    "buffer.pid = os.getpid()\n",
    "buffer.cmd = CMD_WRITE\n",
    "buffer.arg1 = STDOUT\n",
    "buffer.buffer = b'IPC Demo Working!\\n' # Text we are printing out\n",
    "buffer.buffer_len = 18;"
   ]
  },
  {
   "attachments": {},
   "cell_type": "markdown",
   "metadata": {},
   "source": [
    "Now that we've filled out and finalized our job request buffer, we are ready\n",
    "to submit the job.\n",
    "\n",
    "The expected result is to see the message 'IPC Demo Working!' printed out to console."
   ]
  },
  {
   "cell_type": "code",
   "execution_count": null,
   "metadata": {},
   "outputs": [],
   "source": [
    "# Mark the job buffer as \"JOB_REQUESTED\" and let the ipc server pick up the job\n",
    "ipclib.submit_job_request(ctypes.byref(buffer));\n",
    "\n",
    "# Now we just sit and wait for the job to be completed and control to be returned back to us :)\n",
    "ipclib.wait_for_job_completion(ctypes.byref(buffer));"
   ]
  },
  {
   "attachments": {},
   "cell_type": "markdown",
   "metadata": {},
   "source": [
    "One last step would be to disconnect our client from the ipc server once we are done\n",
    "and no more requests will be made."
   ]
  },
  {
   "cell_type": "code",
   "execution_count": null,
   "metadata": {},
   "outputs": [],
   "source": [
    "# Close the ipc connection\n",
    "ipclib.disconnect_job_buffer(ctypes.byref(buffer))"
   ]
  },
  {
   "attachments": {},
   "cell_type": "markdown",
   "metadata": {},
   "source": [
    "To demonstrate, you can also shutdown the ipc server 'remotely' through\n",
    "the ```server_killer``` program. You just simply call it with the number of ipc threads to shutdown."
   ]
  },
  {
   "cell_type": "code",
   "execution_count": null,
   "metadata": {},
   "outputs": [],
   "source": [
    "# Shutdown the IPC server\n",
    "os.system(f'{IPCDIR}/server_killer 1')"
   ]
  }
 ],
 "metadata": {
  "kernelspec": {
   "display_name": "Python 3",
   "language": "python",
   "name": "python3"
  },
  "language_info": {
   "codemirror_mode": {
    "name": "ipython",
    "version": 3
   },
   "file_extension": ".py",
   "mimetype": "text/x-python",
   "name": "python",
   "nbconvert_exporter": "python",
   "pygments_lexer": "ipython3",
   "version": "3.10.8"
  },
  "orig_nbformat": 4
 },
 "nbformat": 4,
 "nbformat_minor": 2
}
