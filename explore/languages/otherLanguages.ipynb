{
 "cells": [
  {
   "cell_type": "code",
   "execution_count": 1,
   "metadata": {},
   "outputs": [],
   "source": [
    "import sys\n",
    "sys.path.append(\"../common_code/\")\n",
    "import common as com"
   ]
  },
  {
   "attachments": {},
   "cell_type": "markdown",
   "metadata": {},
   "source": [
    "The Symbi-OS project offers a low level mechanism called Elevation, which allows users to execute a system call and toggle the hardware mode of execution, something that is normally forbidden by the operating system. Once elevated, application code can run in supervisor mode, allowing modification to the previously guarded OS structures. \n",
    "\n",
    "The elevation mechanism is low level and \"close to the hardware\". What we mean by this is that there are not software dependencies that restrict which languages or frameworks can be used with this tool. We're simply executing machine code in an alternative mode of execution. This mode allows us to execute a superset of instructions that can be run in usermode. Some modifications have to be made for a number of reasons: 1. Application code and kernel code may be built slightly differently so that there are challenges when unifying their code paths, e.g. application code on X86_64 may use the red zone, but kernel code does not. 2. kernel software safety checks 3. conditional hardware paths such as performing a stack switch based on execution mode.\n",
    "\n",
    "In these examples, we demonstrate that it is possible to use the elevation mechanism in order to execute a privileged instruction, reading the CR3 system register. It is only possible to access this register from supervisor mode."
   ]
  },
  {
   "attachments": {},
   "cell_type": "markdown",
   "metadata": {},
   "source": [
    "# C++\n",
    "\n",
    "C++ is very close to C, so there's not much of a surprise that it can be used with the elevation mechanism. We can use it to launch an application in the elevated mode using the scripts we designed for use with C programs."
   ]
  },
  {
   "cell_type": "code",
   "execution_count": 2,
   "metadata": {},
   "outputs": [],
   "source": [
    "# NYI, need to implement cpp read cr3"
   ]
  },
  {
   "attachments": {},
   "cell_type": "markdown",
   "metadata": {},
   "source": [
    "# Rust\n",
    "\n",
    "Rust is a compiled language built for speed, memory & thread safety. It's a systems language with it's own inline assembly and compiler. While most of our examples make use of GCC, the rust compiler is a frontend for LLVM, demonstrating the use of the elevation mechanism is orthogonal to the compiler used.\n",
    "\n",
    "Here, we show rust source code that reads the CR3 register.\n",
    "\n",
    "```rust\n",
    "use std::arch::asm;\n",
    "fn bar() -> u64 {\n",
    "    let mut x: u64;\n",
    "    unsafe {\n",
    "        asm!(\"mov {}, cr3\", out(reg) x);\n",
    "    }\n",
    "    return x;\n",
    "}\n",
    "\n",
    "fn main() {\n",
    "    let cr3 = bar();\n",
    "    println!(\"CR3: {:x}\", cr3);\n",
    "}\n",
    "```\n",
    "Next we build the code."
   ]
  },
  {
   "cell_type": "code",
   "execution_count": 2,
   "metadata": {},
   "outputs": [
    {
     "name": "stdout",
     "output_type": "stream",
     "text": [
      "make: Entering directory '/home/sym/Symbi-OS/LinuxPrototypes/rust/print_cr3'\n",
      "rm -f main\n",
      "make: Leaving directory '/home/sym/Symbi-OS/LinuxPrototypes/rust/print_cr3'\n",
      "\n",
      "make: Entering directory '/home/sym/Symbi-OS/LinuxPrototypes/rust/print_cr3'\n",
      "rustc -O main.rs\n",
      "make: Leaving directory '/home/sym/Symbi-OS/LinuxPrototypes/rust/print_cr3'\n",
      "\n"
     ]
    }
   ],
   "source": [
    "# Build rust code\n",
    "make_rust = \"make -C \" + com.symbios_path + \"LinuxPrototypes/rust/print_cr3/\"\n",
    "ret = com.run_cmd(make_rust + \" clean\")\n",
    "print(ret.stdout)\n",
    "ret = com.run_cmd(make_rust)\n",
    "print(ret.stdout)"
   ]
  },
  {
   "attachments": {},
   "cell_type": "markdown",
   "metadata": {},
   "source": [
    "Here we run the code without elevation. This is designed to fail because reading the CR3 register is a privileged instruction that should not be reachable from usermode."
   ]
  },
  {
   "cell_type": "code",
   "execution_count": 3,
   "metadata": {},
   "outputs": [
    {
     "name": "stdout",
     "output_type": "stream",
     "text": [
      "error:  2\n",
      "make: Entering directory '/home/sym/Symbi-OS/LinuxPrototypes/rust/print_cr3'\n",
      "./main\n",
      "make: Leaving directory '/home/sym/Symbi-OS/LinuxPrototypes/rust/print_cr3'\n",
      "\n",
      "make: *** [Makefile:4: run] Segmentation fault (core dumped)\n",
      "\n"
     ]
    }
   ],
   "source": [
    "# UNIT TEST: Expected to fail. Expect to see Segmentation fault.\n",
    "ret = com.run_cmd(make_rust + \" run\")\n",
    "print(ret.stdout)\n",
    "print(ret.stderr)\n"
   ]
  },
  {
   "attachments": {},
   "cell_type": "markdown",
   "metadata": {},
   "source": [
    "This time we run the code with elevation. This time it succeeds. Here \"be\" means \"begin elevated\""
   ]
  },
  {
   "cell_type": "code",
   "execution_count": 5,
   "metadata": {},
   "outputs": [
    {
     "name": "stdout",
     "output_type": "stream",
     "text": [
      "error:  2\n",
      "make: Entering directory '/home/sym/Symbi-OS/LinuxPrototypes/rust/print_cr3'\n",
      "shortcut.sh -be --- ./main\n",
      "make: Leaving directory '/home/sym/Symbi-OS/LinuxPrototypes/rust/print_cr3'\n",
      "\n",
      "make: shortcut.sh: No such file or directory\n",
      "make: *** [Makefile:9: be] Error 127\n",
      "\n"
     ]
    }
   ],
   "source": [
    "# com.add_sc_to_path()\n",
    "\n",
    "ret = com.run_cmd(make_rust + \" be\")\n",
    "print(ret.stdout)\n",
    "print(ret.stderr)\n"
   ]
  },
  {
   "cell_type": "code",
   "execution_count": 2,
   "metadata": {},
   "outputs": [
    {
     "name": "stdout",
     "output_type": "stream",
     "text": [
      "/usr/bin:/home/sym/.local/bin:/home/sym/.vscode-server/bin/ee2b180d582a7f601fa6ecfdad8d9fd269ab1884/bin/remote-cli:/home/sym/.local/bin:/home/sym/bin:/usr/lib64/ccache:/usr/local/bin:/usr/bin:/usr/local/sbin:/usr/sbin:/home/sym/Tools/bin:/home/sym/Tools/bin/recipes:/home/sym/Tools/bin/shortcut:/home/sym/.vscode-server/bin/ee2b180d582a7f601fa6ecfdad8d9fd269ab1884/bin/remote-cli:/home/sym/.local/bin:/home/sym/bin:/usr/lib64/ccache:/usr/local/bin:/usr/bin:/usr/local/sbin:/usr/sbin:/home/sym/Tools/bin:/home/sym/Tools/bin/recipes:/home/sym/Tools/bin/shortcut\n"
     ]
    }
   ],
   "source": [
    "import os\n",
    "print(os.environ[\"PATH\"])"
   ]
  },
  {
   "cell_type": "code",
   "execution_count": null,
   "metadata": {},
   "outputs": [],
   "source": []
  }
 ],
 "metadata": {
  "kernelspec": {
   "display_name": "sym",
   "language": "python",
   "name": "sym"
  },
  "language_info": {
   "codemirror_mode": {
    "name": "ipython",
    "version": 3
   },
   "file_extension": ".py",
   "mimetype": "text/x-python",
   "name": "python",
   "nbconvert_exporter": "python",
   "pygments_lexer": "ipython3",
   "version": "3.10.4"
  },
  "orig_nbformat": 4
 },
 "nbformat": 4,
 "nbformat_minor": 2
}
