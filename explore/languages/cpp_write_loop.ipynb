{
 "cells": [
  {
   "cell_type": "code",
   "execution_count": 1,
   "metadata": {},
   "outputs": [],
   "source": [
    "import sys\n",
    "sys.path.append(\"../common_code/\")\n",
    "import common as com"
   ]
  },
  {
   "attachments": {},
   "cell_type": "markdown",
   "metadata": {},
   "source": [
    "C++ is very close to C, so there's not much of a surprise that it can be used with the elevation mechanism. We can use it to launch an application in the elevated mode using the scripts we designed for use with C programs. Here we demonstarte a simple C++ program that executes write system calls in a loop and times them.\n",
    "\n",
    "We start by building the code that will measure the throughput for executing write system calls in a loop."
   ]
  },
  {
   "cell_type": "code",
   "execution_count": 2,
   "metadata": {},
   "outputs": [
    {
     "data": {
      "text/plain": [
       "CompletedProcess(args=['make', '-C', '../..//LinuxPrototypes/cpp/'], returncode=0, stdout=\"make: Entering directory '/home/sym/Symbi-OS/LinuxPrototypes/cpp'\\ng++ -Wall -Wextra -Werror  -o write_loop write_loop.cc\\nmake: Leaving directory '/home/sym/Symbi-OS/LinuxPrototypes/cpp'\\n\", stderr='')"
      ]
     },
     "execution_count": 2,
     "metadata": {},
     "output_type": "execute_result"
    }
   ],
   "source": [
    "com.run_cmd(\"make -C \" + com.symbios_path + \"/LinuxPrototypes/cpp/ clean\")\n",
    "com.run_cmd(\"make -C \" + com.symbios_path + \"/LinuxPrototypes/cpp/\")"
   ]
  },
  {
   "attachments": {},
   "cell_type": "markdown",
   "metadata": {},
   "source": [
    "Here we run the program for 1 byte writes and a ~1M writes to a ramdisk. We see a throughtput of around 2 Mb/s on this machine."
   ]
  },
  {
   "cell_type": "code",
   "execution_count": 25,
   "metadata": {},
   "outputs": [
    {
     "name": "stdout",
     "output_type": "stream",
     "text": [
      "make: Entering directory '/home/sym/Symbi-OS/LinuxPrototypes/cpp'\n",
      "./write_loop 1 $((1<<20)) /tmp/test\n",
      "File /tmp/test exists, deleting\n",
      "Elapsed time: 0.462632\n",
      "Throughput: 2.161545 Mb/s\n",
      "K Writes/sec: 2213.422331 \n",
      "make: Leaving directory '/home/sym/Symbi-OS/LinuxPrototypes/cpp'\n",
      "\n"
     ]
    }
   ],
   "source": [
    "ret = com.run_cmd(\"make -C \" + com.symbios_path + \"/LinuxPrototypes/cpp/ run\")\n",
    "\n",
    "print(ret.stdout)\n",
    "\n",
    "throughput_standard = ret.stdout.split(\"Throughput: \")[1].split(\" \")[0]\n"
   ]
  },
  {
   "attachments": {},
   "cell_type": "markdown",
   "metadata": {},
   "source": [
    "Next we run the same experiment, no change to the executable, we simply LD_PRELOAD the shortcut library and run the same program."
   ]
  },
  {
   "cell_type": "code",
   "execution_count": 26,
   "metadata": {},
   "outputs": [
    {
     "name": "stdout",
     "output_type": "stream",
     "text": [
      "make: Entering directory '/home/sym/Symbi-OS/LinuxPrototypes/cpp'\n",
      "shortcut.sh -v -be -s 'write->__x64_sys_write' --- ./write_loop 1 $((1<<20)) /tmp/test\n",
      "Script arguments: -v -be -s write->__x64_sys_write \n",
      "APP_AND_ARGS:  ./write_loop 1 1048576 /tmp/test\n",
      "ELEVATE_FN_LIST: \n",
      "LOWER_FN_LIST: \n",
      "SHORTCUT_FN_LIST:  write->__x64_sys_write\n",
      "BEGIN_ELE: 1\n",
      "ENVT_VARS:  BEGIN_ELE=1 SHORTCUT_write_TO___x64_sys_write=1\n",
      "RUN_CMD: LD_LIBRARY_PATH=/home/sym/Symbi-OS/Symlib/dynam_build:/home/sym/Symbi-OS/Tools/bin/shortcut/deep_sc  BEGIN_ELE=1 SHORTCUT_write_TO___x64_sys_write=1 LD_PRELOAD=/home/sym/Symbi-OS/Tools/bin/shortcut/sc_lib.so  ./write_loop 1 1048576 /tmp/test \n",
      "File /tmp/test exists, deleting\n",
      "Elapsed time: 0.354197\n",
      "Throughput: 2.823288 Mb/s\n",
      "K Writes/sec: 2891.046508 \n",
      "make: Leaving directory '/home/sym/Symbi-OS/LinuxPrototypes/cpp'\n",
      "\n"
     ]
    }
   ],
   "source": [
    "\n",
    "import os\n",
    "\n",
    "# Add to path variable\n",
    "os.environ[\"PATH\"] += os.pathsep + com.symbios_path + \"Tools/bin/shortcut\"\n",
    "ret = com.run_cmd(run_sc)\n",
    "\n",
    "print(ret.stdout)\n",
    "\n",
    "throughput_sc = ret.stdout.split(\"Throughput: \")[1].split(\" \")[0]\n"
   ]
  },
  {
   "attachments": {},
   "cell_type": "markdown",
   "metadata": {},
   "source": [
    "Comparing the two results, we can see if the shortcutted c++ program achieves a throughput improvement."
   ]
  },
  {
   "cell_type": "code",
   "execution_count": 31,
   "metadata": {},
   "outputs": [
    {
     "name": "stdout",
     "output_type": "stream",
     "text": [
      "Throughput standard: 2.161545\n",
      "Throughput shortcut: 2.823288\n",
      "Speedup: 1.3061435223416584\n"
     ]
    }
   ],
   "source": [
    "print(\"Throughput standard: \" + throughput_standard)\n",
    "print(\"Throughput shortcut: \" + throughput_sc)\n",
    "# reverse the above\n",
    "print(\"Speedup: \" + str(float(throughput_sc)/float(throughput_standard)))"
   ]
  },
  {
   "cell_type": "code",
   "execution_count": null,
   "metadata": {},
   "outputs": [],
   "source": []
  }
 ],
 "metadata": {
  "kernelspec": {
   "display_name": "sym",
   "language": "python",
   "name": "sym"
  },
  "language_info": {
   "codemirror_mode": {
    "name": "ipython",
    "version": 3
   },
   "file_extension": ".py",
   "mimetype": "text/x-python",
   "name": "python",
   "nbconvert_exporter": "python",
   "pygments_lexer": "ipython3",
   "version": "3.10.4"
  },
  "orig_nbformat": 4
 },
 "nbformat": 4,
 "nbformat_minor": 2
}
