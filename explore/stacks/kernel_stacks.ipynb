{
 "cells": [
  {
   "attachments": {},
   "cell_type": "markdown",
   "metadata": {},
   "source": [
    "Related reading: stacks/red_zone.ipynb\n",
    "\n",
    "We typically want kernel code to\n",
    "run on kernel stacks. We want this to happen for three reasons:\n",
    "1. Kernel stacks are pinned in memory and will not, themselves, fault.\n",
    "2. Kernel stacks are mapped across all cores, so there is no issue with e.g. IPIs.\n",
    "3. Kernel stacks are mapped at all times, so \n",
    "red zone\n",
    "\n",
    "    \n",
    "\n",
    "\n",
    "The Linux kernel has 3 types of stacks:\n",
    "1. The \"default kernel stack\", used for most general purpose kernel code.\n",
    "2. The \"interrupt stack\", used for interrupt handlers (\"top halves\"), esp external \n",
    "    hw interrupts.\n",
    "3. Interrupt Stack Table (IST) stacks. These are mainly used for unrecoverable\n",
    "   \"bail out\" code paths, such as double faults, debug traps, Non Maskable Interrupts,\n",
    "   and machine checks.\n"
   ]
  },
  {
   "attachments": {},
   "cell_type": "markdown",
   "metadata": {},
   "source": [
    "There are 2 core issues related to stack which cause issues for symbiotes:\n",
    "1. Failure for an intended stack switch to occur because user code was \n",
    "   running in supervisor mode\n",
    "2. The dreaded Red Zone. This is an optimization which user code can use, but\n",
    "   kernel code does not. See the red_zone.ipynb notebook for more details."
   ]
  }
 ],
 "metadata": {
  "kernelspec": {
   "display_name": "sym",
   "language": "python",
   "name": "sym"
  },
  "language_info": {
   "codemirror_mode": {
    "name": "ipython",
    "version": 3
   },
   "file_extension": ".py",
   "mimetype": "text/x-python",
   "name": "python",
   "nbconvert_exporter": "python",
   "pygments_lexer": "ipython3",
   "version": "3.10.4"
  },
  "orig_nbformat": 4
 },
 "nbformat": 4,
 "nbformat_minor": 2
}
